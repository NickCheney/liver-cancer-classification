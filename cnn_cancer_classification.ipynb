{
 "cells": [
  {
   "cell_type": "markdown",
   "id": "33b2687c",
   "metadata": {},
   "source": [
    "## Imports"
   ]
  },
  {
   "cell_type": "code",
   "execution_count": 60,
   "id": "9605fc02",
   "metadata": {},
   "outputs": [],
   "source": [
    "import pandas as pd\n",
    "import numpy as np\n",
    "import matplotlib.pyplot as plt\n",
    "\n",
    "import tensorflow as tf\n",
    "from tensorflow.keras import datasets, layers, models\n",
    "\n",
    "from os import listdir\n",
    "from os.path import isfile, join"
   ]
  },
  {
   "cell_type": "markdown",
   "id": "b1703a4e",
   "metadata": {},
   "source": [
    "## Some initial config"
   ]
  },
  {
   "cell_type": "code",
   "execution_count": 61,
   "id": "4c5f112c",
   "metadata": {},
   "outputs": [],
   "source": [
    "INPUT_DIMS = [32,32]\n",
    "BIN_DTYPE = 'int16'\n",
    "PATH = \"../Images/bin/\"\n",
    "SAMPLE = None\n",
    "SPLIT = 0.3"
   ]
  },
  {
   "cell_type": "markdown",
   "id": "4ac1f20c",
   "metadata": {},
   "source": [
    "## Generate label DataFrame"
   ]
  },
  {
   "cell_type": "code",
   "execution_count": 62,
   "id": "b77b8d3b",
   "metadata": {},
   "outputs": [
    {
     "data": {
      "text/html": [
       "<div>\n",
       "<style scoped>\n",
       "    .dataframe tbody tr th:only-of-type {\n",
       "        vertical-align: middle;\n",
       "    }\n",
       "\n",
       "    .dataframe tbody tr th {\n",
       "        vertical-align: top;\n",
       "    }\n",
       "\n",
       "    .dataframe thead th {\n",
       "        text-align: right;\n",
       "    }\n",
       "</style>\n",
       "<table border=\"1\" class=\"dataframe\">\n",
       "  <thead>\n",
       "    <tr style=\"text-align: right;\">\n",
       "      <th></th>\n",
       "      <th>filename</th>\n",
       "      <th>cancer_type</th>\n",
       "      <th>patient_id</th>\n",
       "      <th>slice_number</th>\n",
       "    </tr>\n",
       "  </thead>\n",
       "  <tbody>\n",
       "    <tr>\n",
       "      <th>0</th>\n",
       "      <td>HCC_1_1.bin</td>\n",
       "      <td>HCC</td>\n",
       "      <td>1</td>\n",
       "      <td>1</td>\n",
       "    </tr>\n",
       "    <tr>\n",
       "      <th>1</th>\n",
       "      <td>HCC_1_2.bin</td>\n",
       "      <td>HCC</td>\n",
       "      <td>1</td>\n",
       "      <td>2</td>\n",
       "    </tr>\n",
       "    <tr>\n",
       "      <th>2</th>\n",
       "      <td>HCC_1_3.bin</td>\n",
       "      <td>HCC</td>\n",
       "      <td>1</td>\n",
       "      <td>3</td>\n",
       "    </tr>\n",
       "    <tr>\n",
       "      <th>3</th>\n",
       "      <td>HCC_1_4.bin</td>\n",
       "      <td>HCC</td>\n",
       "      <td>1</td>\n",
       "      <td>4</td>\n",
       "    </tr>\n",
       "    <tr>\n",
       "      <th>4</th>\n",
       "      <td>HCC_1_5.bin</td>\n",
       "      <td>HCC</td>\n",
       "      <td>1</td>\n",
       "      <td>5</td>\n",
       "    </tr>\n",
       "  </tbody>\n",
       "</table>\n",
       "</div>"
      ],
      "text/plain": [
       "      filename cancer_type  patient_id  slice_number\n",
       "0  HCC_1_1.bin         HCC           1             1\n",
       "1  HCC_1_2.bin         HCC           1             2\n",
       "2  HCC_1_3.bin         HCC           1             3\n",
       "3  HCC_1_4.bin         HCC           1             4\n",
       "4  HCC_1_5.bin         HCC           1             5"
      ]
     },
     "execution_count": 62,
     "metadata": {},
     "output_type": "execute_result"
    }
   ],
   "source": [
    "liver_images = np.array([f for f in listdir(PATH) if isfile(join(PATH, f))])\n",
    "#print(f\"Number of liver image files: {len(liver_images)}\")\n",
    "cancer_types = np.array([f.split('_')[0] for f in liver_images])\n",
    "patient_numbers = np.array([int(f.split('_')[1]) for f in liver_images])\n",
    "slice_numbers = np.array([int(f.split('_')[2].split('.')[0]) for f in liver_images])\n",
    "\n",
    "ldata = {'filename' : liver_images, \n",
    "         'cancer_type' : cancer_types, \n",
    "         'patient_id' : patient_numbers, \n",
    "         'slice_number' : slice_numbers}\n",
    "\n",
    "image_labels = pd.DataFrame(data=ldata).sort_values(['cancer_type','patient_id','slice_number'],\n",
    "                                                   ignore_index=True)\n",
    "if SAMPLE:\n",
    "    image_labels = image_labels.sample(SAMPLE)\n",
    "image_labels.head()"
   ]
  },
  {
   "cell_type": "markdown",
   "id": "1d682f30",
   "metadata": {},
   "source": [
    "### Display some sample images"
   ]
  },
  {
   "cell_type": "code",
   "execution_count": 63,
   "id": "f26cf1f9",
   "metadata": {},
   "outputs": [],
   "source": [
    "def get_image(fpath,d_type=BIN_DTYPE,dims=INPUT_DIMS):\n",
    "    '''\n",
    "    Returns a numpy array given a .bin file path and\n",
    "    image dimensionality\n",
    "    \n",
    "    Parameters\n",
    "        fpath: file path to .bin file\n",
    "        d_type: data type of .bin file\n",
    "        dims: image dimensionality\n",
    "    Returns\n",
    "        image: numpy array from bin file data\n",
    "    '''\n",
    "    image = np.reshape(np.fromfile(fpath,d_type),dims)\n",
    "    return image"
   ]
  },
  {
   "cell_type": "code",
   "execution_count": 64,
   "id": "6cb71302",
   "metadata": {},
   "outputs": [
    {
     "data": {
      "text/plain": [
       "'sample_labels = image_labels.sample(25)\\n\\n\\nplt.figure(figsize=(10,10))\\nfor i in range(25):\\n    plt.subplot(5,5,i+1)\\n    plt.xticks([])\\n    plt.yticks([])\\n    plt.grid(False)\\n    \\n    img = get_image(PATH+sample_labels.filename.iloc[i])\\n    ctype = sample_labels.cancer_type.iloc[i]\\n    plt.imshow(img)\\n    plt.xlabel(ctype)\\nplt.show()'"
      ]
     },
     "execution_count": 64,
     "metadata": {},
     "output_type": "execute_result"
    }
   ],
   "source": [
    "'''sample_labels = image_labels.sample(25)\n",
    "\n",
    "\n",
    "plt.figure(figsize=(10,10))\n",
    "for i in range(25):\n",
    "    plt.subplot(5,5,i+1)\n",
    "    plt.xticks([])\n",
    "    plt.yticks([])\n",
    "    plt.grid(False)\n",
    "    \n",
    "    img = get_image(PATH+sample_labels.filename.iloc[i])\n",
    "    ctype = sample_labels.cancer_type.iloc[i]\n",
    "    plt.imshow(img)\n",
    "    plt.xlabel(ctype)\n",
    "plt.show()'''"
   ]
  },
  {
   "cell_type": "markdown",
   "id": "b6de3c2b",
   "metadata": {},
   "source": [
    "## Split Data into training and testing sets"
   ]
  },
  {
   "cell_type": "code",
   "execution_count": 65,
   "id": "816c8b74",
   "metadata": {
    "scrolled": true
   },
   "outputs": [
    {
     "name": "stdout",
     "output_type": "stream",
     "text": [
      "5974 HCC images found\n",
      "13140 ICC images found\n",
      "9482 MCRC images found\n"
     ]
    }
   ],
   "source": [
    "#split df into cancer types\n",
    "HCC_labels = image_labels.loc[image_labels.cancer_type == 'HCC']\n",
    "ICC_labels = image_labels.loc[image_labels.cancer_type == 'ICC']\n",
    "MCRC_labels = image_labels.loc[image_labels.cancer_type == 'MCRC']\n",
    "print(f\"{len(HCC_labels)} HCC images found\")\n",
    "print(f\"{len(ICC_labels)} ICC images found\")\n",
    "print(f\"{len(MCRC_labels)} MCRC images found\")"
   ]
  },
  {
   "cell_type": "code",
   "execution_count": 66,
   "id": "8088c919",
   "metadata": {},
   "outputs": [],
   "source": [
    "def split_patients(pat_ids):\n",
    "    train, test = train_test_split(pat_ids, test_size=SPLIT)\n",
    "    return train, test"
   ]
  },
  {
   "cell_type": "code",
   "execution_count": 69,
   "id": "2df5fc05",
   "metadata": {
    "scrolled": true
   },
   "outputs": [],
   "source": [
    "from sklearn.model_selection import train_test_split\n",
    "\n",
    "hcc_train_ids, hcc_test_ids = split_patients(HCC_labels.patient_id.unique())\n",
    "icc_train_ids, icc_test_ids = split_patients(ICC_labels.patient_id.unique())\n",
    "mcrc_train_ids, mcrc_test_ids = split_patients(MCRC_labels.patient_id.unique())\n",
    "\n",
    "HCC_train_labels = HCC_labels.loc[HCC_labels.patient_id.isin(hcc_train_ids)]\n",
    "HCC_test_labels = HCC_labels.loc[HCC_labels.patient_id.isin(hcc_test_ids)]\n",
    "\n",
    "ICC_train_labels = ICC_labels.loc[ICC_labels.patient_id.isin(icc_train_ids)]\n",
    "ICC_test_labels = ICC_labels.loc[ICC_labels.patient_id.isin(icc_test_ids)]\n",
    "\n",
    "MCRC_train_labels = MCRC_labels.loc[MCRC_labels.patient_id.isin(mcrc_train_ids)]\n",
    "MCRC_test_labels = MCRC_labels.loc[MCRC_labels.patient_id.isin(mcrc_test_ids)]"
   ]
  },
  {
   "cell_type": "code",
   "execution_count": 72,
   "id": "7691d6f0",
   "metadata": {},
   "outputs": [
    {
     "data": {
      "text/plain": [
       "0.715869352356973"
      ]
     },
     "execution_count": 72,
     "metadata": {},
     "output_type": "execute_result"
    }
   ],
   "source": [
    "train_rows=pd.concat([MCRC_train_labels,ICC_train_labels,HCC_train_labels],ignore_index=True).sample(frac=1)\n",
    "test_rows=pd.concat([MCRC_test_labels,ICC_test_labels,HCC_test_labels],ignore_index=True).sample(frac=1)\n",
    "len(train)/(len(train)+len(test))"
   ]
  },
  {
   "cell_type": "code",
   "execution_count": 73,
   "id": "66f0e548",
   "metadata": {},
   "outputs": [],
   "source": [
    "# dict to map cancer types to numerical classes\n",
    "c_class = {'HCC':0,\n",
    "          'ICC':1,\n",
    "          'MCRC':2}"
   ]
  },
  {
   "cell_type": "code",
   "execution_count": 74,
   "id": "862dde03",
   "metadata": {},
   "outputs": [
    {
     "name": "stdout",
     "output_type": "stream",
     "text": [
      "1/20471\r"
     ]
    },
    {
     "ename": "ValueError",
     "evalue": "cannot reshape array of size 65025 into shape (32,32)",
     "output_type": "error",
     "traceback": [
      "\u001b[1;31m---------------------------------------------------------------------------\u001b[0m",
      "\u001b[1;31mValueError\u001b[0m                                Traceback (most recent call last)",
      "Input \u001b[1;32mIn [74]\u001b[0m, in \u001b[0;36m<module>\u001b[1;34m\u001b[0m\n\u001b[0;32m      5\u001b[0m \u001b[38;5;28;01mfor\u001b[39;00m i \u001b[38;5;129;01min\u001b[39;00m \u001b[38;5;28mrange\u001b[39m(n_train):\n\u001b[0;32m      6\u001b[0m     \u001b[38;5;28mprint\u001b[39m(\u001b[38;5;124mf\u001b[39m\u001b[38;5;124m\"\u001b[39m\u001b[38;5;132;01m{\u001b[39;00mi\u001b[38;5;241m+\u001b[39m\u001b[38;5;241m1\u001b[39m\u001b[38;5;132;01m}\u001b[39;00m\u001b[38;5;124m/\u001b[39m\u001b[38;5;132;01m{\u001b[39;00mn_train\u001b[38;5;132;01m}\u001b[39;00m\u001b[38;5;124m\"\u001b[39m, end\u001b[38;5;241m=\u001b[39m\u001b[38;5;124m'\u001b[39m\u001b[38;5;130;01m\\r\u001b[39;00m\u001b[38;5;124m'\u001b[39m)\n\u001b[1;32m----> 7\u001b[0m     train_images[i,:,:]\u001b[38;5;241m=\u001b[39m\u001b[43mget_image\u001b[49m\u001b[43m(\u001b[49m\u001b[43mPATH\u001b[49m\u001b[38;5;241;43m+\u001b[39;49m\u001b[43mtrain_rows\u001b[49m\u001b[38;5;241;43m.\u001b[39;49m\u001b[43mfilename\u001b[49m\u001b[38;5;241;43m.\u001b[39;49m\u001b[43miloc\u001b[49m\u001b[43m[\u001b[49m\u001b[43mi\u001b[49m\u001b[43m]\u001b[49m\u001b[43m)\u001b[49m\n\u001b[0;32m      9\u001b[0m train_labels \u001b[38;5;241m=\u001b[39m np\u001b[38;5;241m.\u001b[39marray([[c_class[c]] \u001b[38;5;28;01mfor\u001b[39;00m c \u001b[38;5;129;01min\u001b[39;00m train_rows\u001b[38;5;241m.\u001b[39mcancer_type\u001b[38;5;241m.\u001b[39mtolist()])\n",
      "Input \u001b[1;32mIn [63]\u001b[0m, in \u001b[0;36mget_image\u001b[1;34m(fpath, d_type, dims)\u001b[0m\n\u001b[0;32m      1\u001b[0m \u001b[38;5;28;01mdef\u001b[39;00m \u001b[38;5;21mget_image\u001b[39m(fpath,d_type\u001b[38;5;241m=\u001b[39mBIN_DTYPE,dims\u001b[38;5;241m=\u001b[39mINPUT_DIMS):\n\u001b[0;32m      2\u001b[0m     \u001b[38;5;124;03m'''\u001b[39;00m\n\u001b[0;32m      3\u001b[0m \u001b[38;5;124;03m    Returns a numpy array given a .bin file path and\u001b[39;00m\n\u001b[0;32m      4\u001b[0m \u001b[38;5;124;03m    image dimensionality\u001b[39;00m\n\u001b[1;32m   (...)\u001b[0m\n\u001b[0;32m     11\u001b[0m \u001b[38;5;124;03m        image: numpy array from bin file data\u001b[39;00m\n\u001b[0;32m     12\u001b[0m \u001b[38;5;124;03m    '''\u001b[39;00m\n\u001b[1;32m---> 13\u001b[0m     image \u001b[38;5;241m=\u001b[39m \u001b[43mnp\u001b[49m\u001b[38;5;241;43m.\u001b[39;49m\u001b[43mreshape\u001b[49m\u001b[43m(\u001b[49m\u001b[43mnp\u001b[49m\u001b[38;5;241;43m.\u001b[39;49m\u001b[43mfromfile\u001b[49m\u001b[43m(\u001b[49m\u001b[43mfpath\u001b[49m\u001b[43m,\u001b[49m\u001b[43md_type\u001b[49m\u001b[43m)\u001b[49m\u001b[43m,\u001b[49m\u001b[43mdims\u001b[49m\u001b[43m)\u001b[49m\n\u001b[0;32m     14\u001b[0m     \u001b[38;5;28;01mreturn\u001b[39;00m image\n",
      "File \u001b[1;32m<__array_function__ internals>:180\u001b[0m, in \u001b[0;36mreshape\u001b[1;34m(*args, **kwargs)\u001b[0m\n",
      "File \u001b[1;32m~\\AppData\\Roaming\\Python\\Python310\\site-packages\\numpy\\core\\fromnumeric.py:298\u001b[0m, in \u001b[0;36mreshape\u001b[1;34m(a, newshape, order)\u001b[0m\n\u001b[0;32m    198\u001b[0m \u001b[38;5;129m@array_function_dispatch\u001b[39m(_reshape_dispatcher)\n\u001b[0;32m    199\u001b[0m \u001b[38;5;28;01mdef\u001b[39;00m \u001b[38;5;21mreshape\u001b[39m(a, newshape, order\u001b[38;5;241m=\u001b[39m\u001b[38;5;124m'\u001b[39m\u001b[38;5;124mC\u001b[39m\u001b[38;5;124m'\u001b[39m):\n\u001b[0;32m    200\u001b[0m     \u001b[38;5;124;03m\"\"\"\u001b[39;00m\n\u001b[0;32m    201\u001b[0m \u001b[38;5;124;03m    Gives a new shape to an array without changing its data.\u001b[39;00m\n\u001b[0;32m    202\u001b[0m \n\u001b[1;32m   (...)\u001b[0m\n\u001b[0;32m    296\u001b[0m \u001b[38;5;124;03m           [5, 6]])\u001b[39;00m\n\u001b[0;32m    297\u001b[0m \u001b[38;5;124;03m    \"\"\"\u001b[39;00m\n\u001b[1;32m--> 298\u001b[0m     \u001b[38;5;28;01mreturn\u001b[39;00m \u001b[43m_wrapfunc\u001b[49m\u001b[43m(\u001b[49m\u001b[43ma\u001b[49m\u001b[43m,\u001b[49m\u001b[43m \u001b[49m\u001b[38;5;124;43m'\u001b[39;49m\u001b[38;5;124;43mreshape\u001b[39;49m\u001b[38;5;124;43m'\u001b[39;49m\u001b[43m,\u001b[49m\u001b[43m \u001b[49m\u001b[43mnewshape\u001b[49m\u001b[43m,\u001b[49m\u001b[43m \u001b[49m\u001b[43morder\u001b[49m\u001b[38;5;241;43m=\u001b[39;49m\u001b[43morder\u001b[49m\u001b[43m)\u001b[49m\n",
      "File \u001b[1;32m~\\AppData\\Roaming\\Python\\Python310\\site-packages\\numpy\\core\\fromnumeric.py:57\u001b[0m, in \u001b[0;36m_wrapfunc\u001b[1;34m(obj, method, *args, **kwds)\u001b[0m\n\u001b[0;32m     54\u001b[0m     \u001b[38;5;28;01mreturn\u001b[39;00m _wrapit(obj, method, \u001b[38;5;241m*\u001b[39margs, \u001b[38;5;241m*\u001b[39m\u001b[38;5;241m*\u001b[39mkwds)\n\u001b[0;32m     56\u001b[0m \u001b[38;5;28;01mtry\u001b[39;00m:\n\u001b[1;32m---> 57\u001b[0m     \u001b[38;5;28;01mreturn\u001b[39;00m bound(\u001b[38;5;241m*\u001b[39margs, \u001b[38;5;241m*\u001b[39m\u001b[38;5;241m*\u001b[39mkwds)\n\u001b[0;32m     58\u001b[0m \u001b[38;5;28;01mexcept\u001b[39;00m \u001b[38;5;167;01mTypeError\u001b[39;00m:\n\u001b[0;32m     59\u001b[0m     \u001b[38;5;66;03m# A TypeError occurs if the object does have such a method in its\u001b[39;00m\n\u001b[0;32m     60\u001b[0m     \u001b[38;5;66;03m# class, but its signature is not identical to that of NumPy's. This\u001b[39;00m\n\u001b[1;32m   (...)\u001b[0m\n\u001b[0;32m     64\u001b[0m     \u001b[38;5;66;03m# Call _wrapit from within the except clause to ensure a potential\u001b[39;00m\n\u001b[0;32m     65\u001b[0m     \u001b[38;5;66;03m# exception has a traceback chain.\u001b[39;00m\n\u001b[0;32m     66\u001b[0m     \u001b[38;5;28;01mreturn\u001b[39;00m _wrapit(obj, method, \u001b[38;5;241m*\u001b[39margs, \u001b[38;5;241m*\u001b[39m\u001b[38;5;241m*\u001b[39mkwds)\n",
      "\u001b[1;31mValueError\u001b[0m: cannot reshape array of size 65025 into shape (32,32)"
     ]
    }
   ],
   "source": [
    "#preallocate training data array\n",
    "n_train = len(train_rows)\n",
    "train_images = np.zeros([n_train]+INPUT_DIMS,dtype=BIN_DTYPE)\n",
    "\n",
    "for i in range(n_train):\n",
    "    print(f\"{i+1}/{n_train}\", end='\\r')\n",
    "    train_images[i,:,:]=get_image(PATH+train_rows.filename.iloc[i])\n",
    "\n",
    "train_labels = np.array([[c_class[c]] for c in train_rows.cancer_type.tolist()])"
   ]
  },
  {
   "cell_type": "code",
   "execution_count": 73,
   "id": "34668f8b",
   "metadata": {},
   "outputs": [
    {
     "name": "stdout",
     "output_type": "stream",
     "text": [
      "5720/5720\r"
     ]
    }
   ],
   "source": [
    "#preallocate testing data array\n",
    "n_test = len(test_rows)\n",
    "test_images = np.zeros([n_test]+INPUT_DIMS,dtype=BIN_DTYPE)\n",
    "\n",
    "for i in range(n_test):\n",
    "    print(f\"{i+1}/{n_test}\", end='\\r')\n",
    "    test_images[i,:,:]=get_image(PATH+test_rows.filename.iloc[i])\n",
    "\n",
    "test_labels = np.array([[c_class[c]] for c in test_rows.cancer_type.tolist()])"
   ]
  },
  {
   "cell_type": "markdown",
   "id": "a166aebe",
   "metadata": {},
   "source": [
    "## Create Convolutional Base"
   ]
  },
  {
   "cell_type": "code",
   "execution_count": 74,
   "id": "40c7b2e5",
   "metadata": {},
   "outputs": [],
   "source": [
    "model = models.Sequential()\n",
    "model.add(layers.Conv2D(32, (3, 3), activation='relu', input_shape=(INPUT_DIMS[0], INPUT_DIMS[0],1)))\n",
    "model.add(layers.MaxPooling2D((2, 2)))\n",
    "model.add(layers.Conv2D(64, (3, 3), activation='relu'))\n",
    "model.add(layers.MaxPooling2D((2, 2)))\n",
    "model.add(layers.Conv2D(64, (3, 3), activation='relu'))"
   ]
  },
  {
   "cell_type": "code",
   "execution_count": 75,
   "id": "17a8a750",
   "metadata": {},
   "outputs": [
    {
     "name": "stdout",
     "output_type": "stream",
     "text": [
      "Model: \"sequential_6\"\n",
      "_________________________________________________________________\n",
      " Layer (type)                Output Shape              Param #   \n",
      "=================================================================\n",
      " conv2d_18 (Conv2D)          (None, 30, 30, 32)        320       \n",
      "                                                                 \n",
      " max_pooling2d_12 (MaxPoolin  (None, 15, 15, 32)       0         \n",
      " g2D)                                                            \n",
      "                                                                 \n",
      " conv2d_19 (Conv2D)          (None, 13, 13, 64)        18496     \n",
      "                                                                 \n",
      " max_pooling2d_13 (MaxPoolin  (None, 6, 6, 64)         0         \n",
      " g2D)                                                            \n",
      "                                                                 \n",
      " conv2d_20 (Conv2D)          (None, 4, 4, 64)          36928     \n",
      "                                                                 \n",
      "=================================================================\n",
      "Total params: 55,744\n",
      "Trainable params: 55,744\n",
      "Non-trainable params: 0\n",
      "_________________________________________________________________\n"
     ]
    }
   ],
   "source": [
    "model.summary()"
   ]
  },
  {
   "cell_type": "code",
   "execution_count": 76,
   "id": "79808b64",
   "metadata": {},
   "outputs": [
    {
     "name": "stdout",
     "output_type": "stream",
     "text": [
      "Model: \"sequential_6\"\n",
      "_________________________________________________________________\n",
      " Layer (type)                Output Shape              Param #   \n",
      "=================================================================\n",
      " conv2d_18 (Conv2D)          (None, 30, 30, 32)        320       \n",
      "                                                                 \n",
      " max_pooling2d_12 (MaxPoolin  (None, 15, 15, 32)       0         \n",
      " g2D)                                                            \n",
      "                                                                 \n",
      " conv2d_19 (Conv2D)          (None, 13, 13, 64)        18496     \n",
      "                                                                 \n",
      " max_pooling2d_13 (MaxPoolin  (None, 6, 6, 64)         0         \n",
      " g2D)                                                            \n",
      "                                                                 \n",
      " conv2d_20 (Conv2D)          (None, 4, 4, 64)          36928     \n",
      "                                                                 \n",
      " flatten_6 (Flatten)         (None, 1024)              0         \n",
      "                                                                 \n",
      " dense_12 (Dense)            (None, 64)                65600     \n",
      "                                                                 \n",
      " dense_13 (Dense)            (None, 3)                 195       \n",
      "                                                                 \n",
      "=================================================================\n",
      "Total params: 121,539\n",
      "Trainable params: 121,539\n",
      "Non-trainable params: 0\n",
      "_________________________________________________________________\n"
     ]
    }
   ],
   "source": [
    "model.add(layers.Flatten())\n",
    "model.add(layers.Dense(64, activation='relu'))\n",
    "model.add(layers.Dense(3))\n",
    "model.summary()"
   ]
  },
  {
   "cell_type": "code",
   "execution_count": 77,
   "id": "d87ce475",
   "metadata": {},
   "outputs": [
    {
     "name": "stdout",
     "output_type": "stream",
     "text": [
      "Epoch 1/20\n",
      "715/715 [==============================] - 13s 18ms/step - loss: 1.8753 - accuracy: 0.4624 - val_loss: 0.9739 - val_accuracy: 0.5098\n",
      "Epoch 2/20\n",
      "715/715 [==============================] - 12s 17ms/step - loss: 0.9487 - accuracy: 0.5303 - val_loss: 0.9157 - val_accuracy: 0.5509\n",
      "Epoch 3/20\n",
      "715/715 [==============================] - 12s 17ms/step - loss: 0.8935 - accuracy: 0.5691 - val_loss: 0.8852 - val_accuracy: 0.5790\n",
      "Epoch 4/20\n",
      "715/715 [==============================] - 12s 17ms/step - loss: 0.8340 - accuracy: 0.6104 - val_loss: 0.8317 - val_accuracy: 0.6030\n",
      "Epoch 5/20\n",
      "715/715 [==============================] - 12s 17ms/step - loss: 0.7762 - accuracy: 0.6437 - val_loss: 0.7904 - val_accuracy: 0.6343\n",
      "Epoch 6/20\n",
      "715/715 [==============================] - 13s 18ms/step - loss: 0.7138 - accuracy: 0.6776 - val_loss: 0.7406 - val_accuracy: 0.6706\n",
      "Epoch 7/20\n",
      "715/715 [==============================] - 13s 18ms/step - loss: 0.6606 - accuracy: 0.7050 - val_loss: 0.7323 - val_accuracy: 0.6834\n",
      "Epoch 8/20\n",
      "715/715 [==============================] - 13s 18ms/step - loss: 0.6077 - accuracy: 0.7337 - val_loss: 0.7164 - val_accuracy: 0.7086\n",
      "Epoch 9/20\n",
      "715/715 [==============================] - 13s 18ms/step - loss: 0.5746 - accuracy: 0.7504 - val_loss: 0.6591 - val_accuracy: 0.7231\n",
      "Epoch 10/20\n",
      "715/715 [==============================] - 13s 19ms/step - loss: 0.5276 - accuracy: 0.7712 - val_loss: 0.6777 - val_accuracy: 0.7243\n",
      "Epoch 11/20\n",
      "715/715 [==============================] - 15s 21ms/step - loss: 0.4894 - accuracy: 0.7914 - val_loss: 0.7052 - val_accuracy: 0.7351\n",
      "Epoch 12/20\n",
      "715/715 [==============================] - 14s 20ms/step - loss: 0.4611 - accuracy: 0.8046 - val_loss: 0.6231 - val_accuracy: 0.7563\n",
      "Epoch 13/20\n",
      "715/715 [==============================] - 15s 21ms/step - loss: 0.4305 - accuracy: 0.8140 - val_loss: 0.6088 - val_accuracy: 0.7612\n",
      "Epoch 14/20\n",
      "715/715 [==============================] - 14s 20ms/step - loss: 0.4074 - accuracy: 0.8286 - val_loss: 0.6230 - val_accuracy: 0.7596\n",
      "Epoch 15/20\n",
      "715/715 [==============================] - 17s 23ms/step - loss: 0.3830 - accuracy: 0.8396 - val_loss: 0.6101 - val_accuracy: 0.7647\n",
      "Epoch 16/20\n",
      "715/715 [==============================] - 16s 22ms/step - loss: 0.3716 - accuracy: 0.8486 - val_loss: 0.6368 - val_accuracy: 0.7741\n",
      "Epoch 17/20\n",
      "715/715 [==============================] - 14s 20ms/step - loss: 0.3464 - accuracy: 0.8580 - val_loss: 0.6533 - val_accuracy: 0.7767\n",
      "Epoch 18/20\n",
      "715/715 [==============================] - 14s 19ms/step - loss: 0.3339 - accuracy: 0.8629 - val_loss: 0.6306 - val_accuracy: 0.7836\n",
      "Epoch 19/20\n",
      "715/715 [==============================] - 13s 18ms/step - loss: 0.3167 - accuracy: 0.8688 - val_loss: 0.5794 - val_accuracy: 0.7878\n",
      "Epoch 20/20\n",
      "715/715 [==============================] - 13s 18ms/step - loss: 0.3022 - accuracy: 0.8765 - val_loss: 0.6236 - val_accuracy: 0.7841\n"
     ]
    }
   ],
   "source": [
    "model.compile(optimizer='adam',\n",
    "              loss=tf.keras.losses.SparseCategoricalCrossentropy(from_logits=True),\n",
    "              metrics=['accuracy'],\n",
    "             learning_rate=0.03)\n",
    "\n",
    "history = model.fit(train_images, train_labels, epochs=20, batch_size=32,\n",
    "                    validation_data=(test_images, test_labels),verbose=True)"
   ]
  },
  {
   "cell_type": "code",
   "execution_count": 78,
   "id": "77a64c6a",
   "metadata": {},
   "outputs": [
    {
     "name": "stdout",
     "output_type": "stream",
     "text": [
      "179/179 - 1s - loss: 0.6236 - accuracy: 0.7841 - 994ms/epoch - 6ms/step\n",
      "0.7840909361839294\n"
     ]
    },
    {
     "data": {
      "image/png": "[encoded data removed]",
      "text/plain": [
       "<Figure size 432x288 with 1 Axes>"
      ]
     },
     "metadata": {
      "needs_background": "light"
     },
     "output_type": "display_data"
    }
   ],
   "source": [
    "plt.plot(history.history['accuracy'], label='accuracy')\n",
    "plt.plot(history.history['val_accuracy'], label = 'val_accuracy')\n",
    "plt.xlabel('Epoch')\n",
    "plt.ylabel('Accuracy')\n",
    "plt.ylim([0.5, 1])\n",
    "plt.legend(loc='lower right')\n",
    "\n",
    "test_loss, test_acc = model.evaluate(test_images,  test_labels, verbose=2)\n",
    "print(test_acc)"
   ]
  }
 ],
 "metadata": {
  "kernelspec": {
   "display_name": "Python 3 (ipykernel)",
   "language": "python",
   "name": "python3"
  },
  "language_info": {
   "codemirror_mode": {
    "name": "ipython",
    "version": 3
   },
   "file_extension": ".py",
   "mimetype": "text/x-python",
   "name": "python",
   "nbconvert_exporter": "python",
   "pygments_lexer": "ipython3",
   "version": "3.10.2"
  }
 },
 "nbformat": 4,
 "nbformat_minor": 5
}
